{
 "cells": [
  {
   "cell_type": "code",
   "execution_count": 59,
   "metadata": {},
   "outputs": [],
   "source": [
    "import pandas as pd\n",
    "import pickle\n",
    "import numpy as np\n",
    "import json\n",
    "import emoji\n",
    "from nltk.tokenize import word_tokenize\n",
    "from nltk.corpus import stopwords\n",
    "from nltk.tokenize import RegexpTokenizer\n",
    "from nltk.stem import SnowballStemmer\n",
    "from nltk.sentiment import SentimentIntensityAnalyzer\n",
    "import re"
   ]
  },
  {
   "cell_type": "code",
   "execution_count": 20,
   "metadata": {},
   "outputs": [],
   "source": [
    "### DATA CLEANING FUNCTIONS ###\n",
    "\n",
    "def define_stopwords():\n",
    "    all_sw = stopwords.words('spanish')\n",
    "    new_sw = ['heybanco', 'muchas', 'mucha', 'gracia', 'gracias', 'hola', 'día', 'si', 'tarjeta', 'listo', 'hey',\n",
    "          'banco', 'tan', 'hace', 'solo', 'favor', 'ahora', 'así', 'días']\n",
    "    all_sw = list(all_sw) + new_sw\n",
    "    return all_sw\n",
    "\n",
    "def load_model(filename):\n",
    "    with open(filename, 'rb') as f:\n",
    "        model = pickle.load(f)\n",
    "    return model\n",
    "\n",
    "def remove_emojis(text):\n",
    "    return emoji.replace_emoji(text, '')\n",
    "\n",
    "def emoji_to_text(text):\n",
    "    return emoji.demojize(text)\n",
    "\n",
    "def remove_stopwords(text):\n",
    "    words = word_tokenize(text, language='spanish')\n",
    "    all_sw = define_stopwords()\n",
    "    return ' '.join([word.lower() for word in words if word.lower() not in all_sw])\n",
    "\n",
    "def clean_text(text, emoji='remove', strip=True, sw=True):\n",
    "    if emoji == 'remove':\n",
    "        text = remove_emojis(text)\n",
    "    elif emoji == 'text':\n",
    "        text = emoji_to_text(text)\n",
    "    \n",
    "    if strip:\n",
    "        text = text.rstrip()\n",
    "        text = re.sub(r'\\s+', ' ', text).strip()\n",
    "\n",
    "    if sw:\n",
    "        text = remove_stopwords(text)\n",
    "\n",
    "    return text\n",
    "\n",
    "tokenizer = RegexpTokenizer(r'\\w+')\n",
    "stemmer = SnowballStemmer('spanish')\n",
    "\n",
    "def preprocess(text):\n",
    "    tokens = tokenizer.tokenize(text.lower())\n",
    "    #stemmed_tokens = [stemmer.stem(i) for i in tokens]\n",
    "    return tokens"
   ]
  },
  {
   "cell_type": "code",
   "execution_count": 67,
   "metadata": {},
   "outputs": [],
   "source": [
    "### ETL FUNCTIONS ###\n",
    "\n",
    "def extract_features(text, filename):\n",
    "    # Obtener los topicos\n",
    "    with open(filename, 'r') as f:\n",
    "        topics_words = json.load(f)\n",
    "\n",
    "    # Limpiar text\n",
    "    clean_tweet = clean_text(text)\n",
    "\n",
    "    # Almacenar datos en serie de pandas\n",
    "    row = pd.Series({'tweet':clean_tweet})\n",
    "\n",
    "    # Preprocesar texto\n",
    "    row['processed'] = preprocess(text)\n",
    "\n",
    "    # Crear columnas para cada palabra clave\n",
    "    for topic, words in topics_words.items():\n",
    "        for word in words:\n",
    "            row[word] = text.count(word)\n",
    "\n",
    "    return row\n",
    "\n",
    "def extract_topic(text):\n",
    "    features = np.array(extract_features(text, 'topic_words.json').iloc[2:]).reshape(1,-1)\n",
    "\n",
    "    # Load model\n",
    "    with open('topic_model.pkl', 'rb') as f:\n",
    "        model = pickle.load(f)\n",
    "\n",
    "    topic_dict = {0:'Comentario General', 1:'Servicio', 2:'Aplicación', 3:'Ayuda', 4:'Crédito'}\n",
    "\n",
    "    # Get topic\n",
    "    return topic_dict[model.predict(features)[0]]\n",
    "\n",
    "def extract_sentiment(text):\n",
    "    sia = SentimentIntensityAnalyzer()\n",
    "    sentiment = sia.polarity_scores(text)\n",
    "    compound = sentiment['compound']\n",
    "    if compound > 0:\n",
    "        return 'Positive'\n",
    "    elif compound < 0:\n",
    "        return 'Negative'\n",
    "    else:\n",
    "        return 'Neutral'"
   ]
  },
  {
   "cell_type": "code",
   "execution_count": 65,
   "metadata": {},
   "outputs": [
    {
     "data": {
      "text/plain": [
       "'Negative'"
      ]
     },
     "execution_count": 65,
     "metadata": {},
     "output_type": "execute_result"
    }
   ],
   "source": [
    "extract_sentiment('no he podido incrementar mi limite en mi cuenta en los ultimos 10 meses, alguien que me pase tips?')"
   ]
  },
  {
   "cell_type": "code",
   "execution_count": 68,
   "metadata": {},
   "outputs": [
    {
     "name": "stderr",
     "output_type": "stream",
     "text": [
      "/Users/kw1013/anaconda3/lib/python3.10/site-packages/sklearn/base.py:420: UserWarning: X does not have valid feature names, but LinearSVC was fitted with feature names\n",
      "  warnings.warn(\n"
     ]
    },
    {
     "data": {
      "text/plain": [
       "'Crédito'"
      ]
     },
     "execution_count": 68,
     "metadata": {},
     "output_type": "execute_result"
    }
   ],
   "source": [
    "extract_topic('no he podido incrementar mi limite en mi cuenta en los ultimos 10 meses, alguien que me pase tips?')"
   ]
  }
 ],
 "metadata": {
  "kernelspec": {
   "display_name": "base",
   "language": "python",
   "name": "python3"
  },
  "language_info": {
   "codemirror_mode": {
    "name": "ipython",
    "version": 3
   },
   "file_extension": ".py",
   "mimetype": "text/x-python",
   "name": "python",
   "nbconvert_exporter": "python",
   "pygments_lexer": "ipython3",
   "version": "3.10.9"
  }
 },
 "nbformat": 4,
 "nbformat_minor": 2
}
