{
 "cells": [
  {
   "cell_type": "markdown",
   "metadata": {},
   "source": [
    "# Hey, Banco"
   ]
  },
  {
   "cell_type": "markdown",
   "metadata": {},
   "source": [
    "## Libraries"
   ]
  },
  {
   "cell_type": "code",
   "execution_count": 27,
   "metadata": {},
   "outputs": [],
   "source": [
    "import pandas as pd\n",
    "import numpy as np\n",
    "import matplotlib.pyplot as plt\n",
    "\n",
    "# Regular expressions\n",
    "import re\n",
    "\n",
    "# Emoji\n",
    "import emoji\n",
    "from googletrans import Translator\n"
   ]
  },
  {
   "cell_type": "markdown",
   "metadata": {},
   "source": [
    "## Load Data"
   ]
  },
  {
   "cell_type": "code",
   "execution_count": 19,
   "metadata": {},
   "outputs": [
    {
     "data": {
      "text/html": [
       "<div>\n",
       "<style scoped>\n",
       "    .dataframe tbody tr th:only-of-type {\n",
       "        vertical-align: middle;\n",
       "    }\n",
       "\n",
       "    .dataframe tbody tr th {\n",
       "        vertical-align: top;\n",
       "    }\n",
       "\n",
       "    .dataframe thead th {\n",
       "        text-align: right;\n",
       "    }\n",
       "</style>\n",
       "<table border=\"1\" class=\"dataframe\">\n",
       "  <thead>\n",
       "    <tr style=\"text-align: right;\">\n",
       "      <th></th>\n",
       "      <th>date</th>\n",
       "      <th>time</th>\n",
       "      <th>tweet</th>\n",
       "    </tr>\n",
       "  </thead>\n",
       "  <tbody>\n",
       "    <tr>\n",
       "      <th>0</th>\n",
       "      <td>2023-01-01</td>\n",
       "      <td>NaN</td>\n",
       "      <td>Resuelto, muchísimas gracias , excelente servi...</td>\n",
       "    </tr>\n",
       "    <tr>\n",
       "      <th>1</th>\n",
       "      <td>2023-01-02</td>\n",
       "      <td>NaN</td>\n",
       "      <td>Muchas gracias, espero su dm</td>\n",
       "    </tr>\n",
       "    <tr>\n",
       "      <th>2</th>\n",
       "      <td>2023-01-02</td>\n",
       "      <td>NaN</td>\n",
       "      <td>Muchas gracias!</td>\n",
       "    </tr>\n",
       "    <tr>\n",
       "      <th>3</th>\n",
       "      <td>2023-01-02</td>\n",
       "      <td>NaN</td>\n",
       "      <td>Algo similar me paso. Quería renovar mi token ...</td>\n",
       "    </tr>\n",
       "    <tr>\n",
       "      <th>4</th>\n",
       "      <td>2023-01-02</td>\n",
       "      <td>NaN</td>\n",
       "      <td>Yeeeei! a través de mi cuenta en acabo de cont...</td>\n",
       "    </tr>\n",
       "  </tbody>\n",
       "</table>\n",
       "</div>"
      ],
      "text/plain": [
       "         date time                                              tweet\n",
       "0  2023-01-01  NaN  Resuelto, muchísimas gracias , excelente servi...\n",
       "1  2023-01-02  NaN                       Muchas gracias, espero su dm\n",
       "2  2023-01-02  NaN                                    Muchas gracias!\n",
       "3  2023-01-02  NaN  Algo similar me paso. Quería renovar mi token ...\n",
       "4  2023-01-02  NaN  Yeeeei! a través de mi cuenta en acabo de cont..."
      ]
     },
     "execution_count": 19,
     "metadata": {},
     "output_type": "execute_result"
    }
   ],
   "source": [
    "# Load dataset\n",
    "df = pd.read_csv('Datathon 2024 - Reto Hey - Dataset Público - Sheet1.csv')\n",
    "df.head()"
   ]
  },
  {
   "cell_type": "markdown",
   "metadata": {},
   "source": [
    "## Data Cleaning"
   ]
  },
  {
   "cell_type": "code",
   "execution_count": 29,
   "metadata": {},
   "outputs": [],
   "source": [
    "# Remove emojis\n",
    "def remove_emojis(text):\n",
    "    return emoji.replace_emoji(text, '')\n",
    "\n",
    "# Clean text\n",
    "def clean_text(df):\n",
    "    df1 = df.copy()\n",
    "    df1['clean_tweet'] = df1['tweet'].apply(emoji_to_spanish) \n",
    "    df1['clean_tweet'] = df1['clean_tweet'].str.rstrip() # Remove spaces\n",
    "    df1['clean_tweet'] = df1['clean_tweet'].str.replace(r'\\s+', ' ', regex=True) # Remove characters\n",
    "    df1['clean_tweet'] = df1['clean_tweet'].str.lower() # Lowercase\n",
    "    return df1"
   ]
  },
  {
   "cell_type": "code",
   "execution_count": 21,
   "metadata": {},
   "outputs": [
    {
     "data": {
      "text/html": [
       "<div>\n",
       "<style scoped>\n",
       "    .dataframe tbody tr th:only-of-type {\n",
       "        vertical-align: middle;\n",
       "    }\n",
       "\n",
       "    .dataframe tbody tr th {\n",
       "        vertical-align: top;\n",
       "    }\n",
       "\n",
       "    .dataframe thead th {\n",
       "        text-align: right;\n",
       "    }\n",
       "</style>\n",
       "<table border=\"1\" class=\"dataframe\">\n",
       "  <thead>\n",
       "    <tr style=\"text-align: right;\">\n",
       "      <th></th>\n",
       "      <th>date</th>\n",
       "      <th>time</th>\n",
       "      <th>tweet</th>\n",
       "      <th>clean_tweet</th>\n",
       "    </tr>\n",
       "  </thead>\n",
       "  <tbody>\n",
       "    <tr>\n",
       "      <th>0</th>\n",
       "      <td>2023-01-01</td>\n",
       "      <td>NaN</td>\n",
       "      <td>Resuelto, muchísimas gracias , excelente servi...</td>\n",
       "      <td>resuelto, muchísimas gracias , excelente servi...</td>\n",
       "    </tr>\n",
       "    <tr>\n",
       "      <th>1</th>\n",
       "      <td>2023-01-02</td>\n",
       "      <td>NaN</td>\n",
       "      <td>Muchas gracias, espero su dm</td>\n",
       "      <td>muchas gracias, espero su dm</td>\n",
       "    </tr>\n",
       "    <tr>\n",
       "      <th>2</th>\n",
       "      <td>2023-01-02</td>\n",
       "      <td>NaN</td>\n",
       "      <td>Muchas gracias!</td>\n",
       "      <td>muchas gracias!</td>\n",
       "    </tr>\n",
       "    <tr>\n",
       "      <th>3</th>\n",
       "      <td>2023-01-02</td>\n",
       "      <td>NaN</td>\n",
       "      <td>Algo similar me paso. Quería renovar mi token ...</td>\n",
       "      <td>algo similar me paso. quería renovar mi token ...</td>\n",
       "    </tr>\n",
       "    <tr>\n",
       "      <th>4</th>\n",
       "      <td>2023-01-02</td>\n",
       "      <td>NaN</td>\n",
       "      <td>Yeeeei! a través de mi cuenta en acabo de cont...</td>\n",
       "      <td>yeeeei! a través de mi cuenta en acabo de cont...</td>\n",
       "    </tr>\n",
       "    <tr>\n",
       "      <th>5</th>\n",
       "      <td>2023-01-02</td>\n",
       "      <td>NaN</td>\n",
       "      <td>Esta es la señal que necesitan para tener el m...</td>\n",
       "      <td>esta es la señal que necesitan para tener el m...</td>\n",
       "    </tr>\n",
       "    <tr>\n",
       "      <th>6</th>\n",
       "      <td>2023-01-03</td>\n",
       "      <td>NaN</td>\n",
       "      <td>Gracias 😁</td>\n",
       "      <td>gracias</td>\n",
       "    </tr>\n",
       "    <tr>\n",
       "      <th>7</th>\n",
       "      <td>2023-01-03</td>\n",
       "      <td>NaN</td>\n",
       "      <td>Muchas gracias 😊</td>\n",
       "      <td>muchas gracias</td>\n",
       "    </tr>\n",
       "    <tr>\n",
       "      <th>8</th>\n",
       "      <td>2023-01-03</td>\n",
       "      <td>NaN</td>\n",
       "      <td>Yo no sé mucho, pero te recomiendo la Inversió...</td>\n",
       "      <td>yo no sé mucho, pero te recomiendo la inversió...</td>\n",
       "    </tr>\n",
       "    <tr>\n",
       "      <th>9</th>\n",
       "      <td>2023-01-04</td>\n",
       "      <td>NaN</td>\n",
       "      <td>Gracias por la playera que me dieron en Galerí...</td>\n",
       "      <td>gracias por la playera que me dieron en galerí...</td>\n",
       "    </tr>\n",
       "  </tbody>\n",
       "</table>\n",
       "</div>"
      ],
      "text/plain": [
       "         date time                                              tweet  \\\n",
       "0  2023-01-01  NaN  Resuelto, muchísimas gracias , excelente servi...   \n",
       "1  2023-01-02  NaN                       Muchas gracias, espero su dm   \n",
       "2  2023-01-02  NaN                                    Muchas gracias!   \n",
       "3  2023-01-02  NaN  Algo similar me paso. Quería renovar mi token ...   \n",
       "4  2023-01-02  NaN  Yeeeei! a través de mi cuenta en acabo de cont...   \n",
       "5  2023-01-02  NaN  Esta es la señal que necesitan para tener el m...   \n",
       "6  2023-01-03  NaN                                          Gracias 😁   \n",
       "7  2023-01-03  NaN                                   Muchas gracias 😊   \n",
       "8  2023-01-03  NaN  Yo no sé mucho, pero te recomiendo la Inversió...   \n",
       "9  2023-01-04  NaN  Gracias por la playera que me dieron en Galerí...   \n",
       "\n",
       "                                         clean_tweet  \n",
       "0  resuelto, muchísimas gracias , excelente servi...  \n",
       "1                       muchas gracias, espero su dm  \n",
       "2                                    muchas gracias!  \n",
       "3  algo similar me paso. quería renovar mi token ...  \n",
       "4  yeeeei! a través de mi cuenta en acabo de cont...  \n",
       "5  esta es la señal que necesitan para tener el m...  \n",
       "6                                            gracias  \n",
       "7                                     muchas gracias  \n",
       "8  yo no sé mucho, pero te recomiendo la inversió...  \n",
       "9  gracias por la playera que me dieron en galerí...  "
      ]
     },
     "execution_count": 21,
     "metadata": {},
     "output_type": "execute_result"
    }
   ],
   "source": [
    "# Clean text without emojis\n",
    "df1 = clean_text(df)\n",
    "df1.head(10)"
   ]
  },
  {
   "cell_type": "code",
   "execution_count": null,
   "metadata": {},
   "outputs": [],
   "source": []
  }
 ],
 "metadata": {
  "kernelspec": {
   "display_name": "base",
   "language": "python",
   "name": "python3"
  },
  "language_info": {
   "codemirror_mode": {
    "name": "ipython",
    "version": 3
   },
   "file_extension": ".py",
   "mimetype": "text/x-python",
   "name": "python",
   "nbconvert_exporter": "python",
   "pygments_lexer": "ipython3",
   "version": "3.10.9"
  }
 },
 "nbformat": 4,
 "nbformat_minor": 2
}
